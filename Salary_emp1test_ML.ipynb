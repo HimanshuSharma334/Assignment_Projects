{
 "cells": [
  {
   "cell_type": "code",
   "execution_count": 22,
   "metadata": {},
   "outputs": [],
   "source": [
    "#import libary for use method\n",
    "import numpy as np\n",
    "import pandas as pd\n",
    "import seaborn as sns\n",
    "import matplotlib.pyplot as plt\n",
    "import warnings\n",
    "warnings.filterwarnings('ignore')"
   ]
  },
  {
   "cell_type": "code",
   "execution_count": 23,
   "metadata": {},
   "outputs": [],
   "source": [
    "#reading the dataset\n",
    "emp_df=pd.read_csv('empl.csv')"
   ]
  },
  {
   "cell_type": "code",
   "execution_count": 24,
   "metadata": {},
   "outputs": [
    {
     "data": {
      "text/html": [
       "<div>\n",
       "<style scoped>\n",
       "    .dataframe tbody tr th:only-of-type {\n",
       "        vertical-align: middle;\n",
       "    }\n",
       "\n",
       "    .dataframe tbody tr th {\n",
       "        vertical-align: top;\n",
       "    }\n",
       "\n",
       "    .dataframe thead th {\n",
       "        text-align: right;\n",
       "    }\n",
       "</style>\n",
       "<table border=\"1\" class=\"dataframe\">\n",
       "  <thead>\n",
       "    <tr style=\"text-align: right;\">\n",
       "      <th></th>\n",
       "      <th>SNo</th>\n",
       "      <th>Name</th>\n",
       "      <th>Age</th>\n",
       "      <th>City</th>\n",
       "      <th>Country</th>\n",
       "      <th>Salary</th>\n",
       "    </tr>\n",
       "  </thead>\n",
       "  <tbody>\n",
       "    <tr>\n",
       "      <th>0</th>\n",
       "      <td>1</td>\n",
       "      <td>Tom</td>\n",
       "      <td>28.0</td>\n",
       "      <td>Toronto</td>\n",
       "      <td>Canada</td>\n",
       "      <td>20000.0</td>\n",
       "    </tr>\n",
       "    <tr>\n",
       "      <th>1</th>\n",
       "      <td>2</td>\n",
       "      <td>Lee</td>\n",
       "      <td>31.0</td>\n",
       "      <td>Edmonto</td>\n",
       "      <td>Canada</td>\n",
       "      <td>3900.0</td>\n",
       "    </tr>\n",
       "    <tr>\n",
       "      <th>2</th>\n",
       "      <td>3</td>\n",
       "      <td>Dave</td>\n",
       "      <td>34.0</td>\n",
       "      <td>Toronto</td>\n",
       "      <td>Canada</td>\n",
       "      <td>8000.0</td>\n",
       "    </tr>\n",
       "    <tr>\n",
       "      <th>3</th>\n",
       "      <td>4</td>\n",
       "      <td>Anik</td>\n",
       "      <td>26.0</td>\n",
       "      <td>HongKong</td>\n",
       "      <td>Asia</td>\n",
       "      <td>66672.0</td>\n",
       "    </tr>\n",
       "    <tr>\n",
       "      <th>4</th>\n",
       "      <td>5</td>\n",
       "      <td>kamal</td>\n",
       "      <td>30.0</td>\n",
       "      <td>NaN</td>\n",
       "      <td>America</td>\n",
       "      <td>NaN</td>\n",
       "    </tr>\n",
       "  </tbody>\n",
       "</table>\n",
       "</div>"
      ],
      "text/plain": [
       "   SNo   Name   Age      City  Country   Salary\n",
       "0    1    Tom  28.0   Toronto   Canada  20000.0\n",
       "1    2    Lee  31.0   Edmonto   Canada   3900.0\n",
       "2    3   Dave  34.0   Toronto   Canada   8000.0\n",
       "3    4   Anik  26.0  HongKong     Asia  66672.0\n",
       "4    5  kamal  30.0       NaN  America      NaN"
      ]
     },
     "execution_count": 24,
     "metadata": {},
     "output_type": "execute_result"
    }
   ],
   "source": [
    "emp_df.head()"
   ]
  },
  {
   "cell_type": "code",
   "execution_count": 25,
   "metadata": {},
   "outputs": [
    {
     "data": {
      "text/plain": [
       "(22, 6)"
      ]
     },
     "execution_count": 25,
     "metadata": {},
     "output_type": "execute_result"
    }
   ],
   "source": [
    "emp_df.shape"
   ]
  },
  {
   "cell_type": "code",
   "execution_count": 26,
   "metadata": {},
   "outputs": [
    {
     "data": {
      "text/plain": [
       "Index(['SNo', 'Name', 'Age', 'City', 'Country', 'Salary'], dtype='object')"
      ]
     },
     "execution_count": 26,
     "metadata": {},
     "output_type": "execute_result"
    }
   ],
   "source": [
    "emp_df.columns"
   ]
  },
  {
   "cell_type": "code",
   "execution_count": 27,
   "metadata": {},
   "outputs": [
    {
     "name": "stdout",
     "output_type": "stream",
     "text": [
      "<class 'pandas.core.frame.DataFrame'>\n",
      "RangeIndex: 22 entries, 0 to 21\n",
      "Data columns (total 6 columns):\n",
      " #   Column   Non-Null Count  Dtype  \n",
      "---  ------   --------------  -----  \n",
      " 0   SNo      22 non-null     int64  \n",
      " 1   Name     22 non-null     object \n",
      " 2   Age      19 non-null     float64\n",
      " 3   City     19 non-null     object \n",
      " 4   Country  22 non-null     object \n",
      " 5   Salary   19 non-null     float64\n",
      "dtypes: float64(2), int64(1), object(3)\n",
      "memory usage: 1.2+ KB\n"
     ]
    }
   ],
   "source": [
    "emp_df.info()"
   ]
  },
  {
   "cell_type": "code",
   "execution_count": 28,
   "metadata": {},
   "outputs": [
    {
     "data": {
      "text/plain": [
       "SNo          int64\n",
       "Name        object\n",
       "Age        float64\n",
       "City        object\n",
       "Country     object\n",
       "Salary     float64\n",
       "dtype: object"
      ]
     },
     "execution_count": 28,
     "metadata": {},
     "output_type": "execute_result"
    }
   ],
   "source": [
    "#checking the datatype\n",
    "emp_df.dtypes"
   ]
  },
  {
   "cell_type": "code",
   "execution_count": 29,
   "metadata": {},
   "outputs": [
    {
     "data": {
      "text/html": [
       "<div>\n",
       "<style scoped>\n",
       "    .dataframe tbody tr th:only-of-type {\n",
       "        vertical-align: middle;\n",
       "    }\n",
       "\n",
       "    .dataframe tbody tr th {\n",
       "        vertical-align: top;\n",
       "    }\n",
       "\n",
       "    .dataframe thead th {\n",
       "        text-align: right;\n",
       "    }\n",
       "</style>\n",
       "<table border=\"1\" class=\"dataframe\">\n",
       "  <thead>\n",
       "    <tr style=\"text-align: right;\">\n",
       "      <th></th>\n",
       "      <th>SNo</th>\n",
       "      <th>Age</th>\n",
       "      <th>Salary</th>\n",
       "    </tr>\n",
       "  </thead>\n",
       "  <tbody>\n",
       "    <tr>\n",
       "      <th>count</th>\n",
       "      <td>22.000000</td>\n",
       "      <td>19.000000</td>\n",
       "      <td>19.000000</td>\n",
       "    </tr>\n",
       "    <tr>\n",
       "      <th>mean</th>\n",
       "      <td>12.090909</td>\n",
       "      <td>32.421053</td>\n",
       "      <td>33739.947368</td>\n",
       "    </tr>\n",
       "    <tr>\n",
       "      <th>std</th>\n",
       "      <td>6.927578</td>\n",
       "      <td>7.174924</td>\n",
       "      <td>23151.188084</td>\n",
       "    </tr>\n",
       "    <tr>\n",
       "      <th>min</th>\n",
       "      <td>1.000000</td>\n",
       "      <td>22.000000</td>\n",
       "      <td>3900.000000</td>\n",
       "    </tr>\n",
       "    <tr>\n",
       "      <th>25%</th>\n",
       "      <td>6.250000</td>\n",
       "      <td>27.000000</td>\n",
       "      <td>8888.000000</td>\n",
       "    </tr>\n",
       "    <tr>\n",
       "      <th>50%</th>\n",
       "      <td>12.500000</td>\n",
       "      <td>31.000000</td>\n",
       "      <td>33451.000000</td>\n",
       "    </tr>\n",
       "    <tr>\n",
       "      <th>75%</th>\n",
       "      <td>17.750000</td>\n",
       "      <td>36.000000</td>\n",
       "      <td>54666.000000</td>\n",
       "    </tr>\n",
       "    <tr>\n",
       "      <th>max</th>\n",
       "      <td>23.000000</td>\n",
       "      <td>50.000000</td>\n",
       "      <td>67666.000000</td>\n",
       "    </tr>\n",
       "  </tbody>\n",
       "</table>\n",
       "</div>"
      ],
      "text/plain": [
       "             SNo        Age        Salary\n",
       "count  22.000000  19.000000     19.000000\n",
       "mean   12.090909  32.421053  33739.947368\n",
       "std     6.927578   7.174924  23151.188084\n",
       "min     1.000000  22.000000   3900.000000\n",
       "25%     6.250000  27.000000   8888.000000\n",
       "50%    12.500000  31.000000  33451.000000\n",
       "75%    17.750000  36.000000  54666.000000\n",
       "max    23.000000  50.000000  67666.000000"
      ]
     },
     "execution_count": 29,
     "metadata": {},
     "output_type": "execute_result"
    }
   ],
   "source": [
    "emp_df.describe()"
   ]
  },
  {
   "cell_type": "code",
   "execution_count": 30,
   "metadata": {},
   "outputs": [
    {
     "data": {
      "text/plain": [
       "SNo        0\n",
       "Name       0\n",
       "Age        3\n",
       "City       3\n",
       "Country    0\n",
       "Salary     3\n",
       "dtype: int64"
      ]
     },
     "execution_count": 30,
     "metadata": {},
     "output_type": "execute_result"
    }
   ],
   "source": [
    "emp_df.isnull().sum()"
   ]
  },
  {
   "cell_type": "code",
   "execution_count": 31,
   "metadata": {},
   "outputs": [],
   "source": [
    "#Missing values Imputation\n",
    "mean_age=emp_df['Age'].mean()\n",
    "age=float(mean_age)\n",
    "emp_df['Age'].fillna(age,inplace=True)\n",
    "\n",
    "\n",
    "mean_salary=emp_df['Salary'].mean()\n",
    "salary=float(mean_salary)\n",
    "emp_df['Salary'].fillna(salary,inplace=True)\n",
    "\n",
    "emp_df['City'].fillna('Unknown',inplace=True)\n",
    "\n"
   ]
  },
  {
   "cell_type": "code",
   "execution_count": 32,
   "metadata": {},
   "outputs": [
    {
     "data": {
      "text/plain": [
       "SNo        0\n",
       "Name       0\n",
       "Age        0\n",
       "City       0\n",
       "Country    0\n",
       "Salary     0\n",
       "dtype: int64"
      ]
     },
     "execution_count": 32,
     "metadata": {},
     "output_type": "execute_result"
    }
   ],
   "source": [
    "emp_df.isnull().sum()"
   ]
  },
  {
   "cell_type": "code",
   "execution_count": 33,
   "metadata": {},
   "outputs": [
    {
     "data": {
      "text/html": [
       "<div>\n",
       "<style scoped>\n",
       "    .dataframe tbody tr th:only-of-type {\n",
       "        vertical-align: middle;\n",
       "    }\n",
       "\n",
       "    .dataframe tbody tr th {\n",
       "        vertical-align: top;\n",
       "    }\n",
       "\n",
       "    .dataframe thead th {\n",
       "        text-align: right;\n",
       "    }\n",
       "</style>\n",
       "<table border=\"1\" class=\"dataframe\">\n",
       "  <thead>\n",
       "    <tr style=\"text-align: right;\">\n",
       "      <th></th>\n",
       "      <th>SNo</th>\n",
       "      <th>Age</th>\n",
       "      <th>Salary</th>\n",
       "    </tr>\n",
       "  </thead>\n",
       "  <tbody>\n",
       "    <tr>\n",
       "      <th>count</th>\n",
       "      <td>22.000000</td>\n",
       "      <td>22.000000</td>\n",
       "      <td>22.000000</td>\n",
       "    </tr>\n",
       "    <tr>\n",
       "      <th>mean</th>\n",
       "      <td>12.090909</td>\n",
       "      <td>32.421053</td>\n",
       "      <td>33739.947368</td>\n",
       "    </tr>\n",
       "    <tr>\n",
       "      <th>std</th>\n",
       "      <td>6.927578</td>\n",
       "      <td>6.642689</td>\n",
       "      <td>21433.835262</td>\n",
       "    </tr>\n",
       "    <tr>\n",
       "      <th>min</th>\n",
       "      <td>1.000000</td>\n",
       "      <td>22.000000</td>\n",
       "      <td>3900.000000</td>\n",
       "    </tr>\n",
       "    <tr>\n",
       "      <th>25%</th>\n",
       "      <td>6.250000</td>\n",
       "      <td>27.250000</td>\n",
       "      <td>11666.000000</td>\n",
       "    </tr>\n",
       "    <tr>\n",
       "      <th>50%</th>\n",
       "      <td>12.500000</td>\n",
       "      <td>31.500000</td>\n",
       "      <td>33739.947368</td>\n",
       "    </tr>\n",
       "    <tr>\n",
       "      <th>75%</th>\n",
       "      <td>17.750000</td>\n",
       "      <td>34.000000</td>\n",
       "      <td>49633.000000</td>\n",
       "    </tr>\n",
       "    <tr>\n",
       "      <th>max</th>\n",
       "      <td>23.000000</td>\n",
       "      <td>50.000000</td>\n",
       "      <td>67666.000000</td>\n",
       "    </tr>\n",
       "  </tbody>\n",
       "</table>\n",
       "</div>"
      ],
      "text/plain": [
       "             SNo        Age        Salary\n",
       "count  22.000000  22.000000     22.000000\n",
       "mean   12.090909  32.421053  33739.947368\n",
       "std     6.927578   6.642689  21433.835262\n",
       "min     1.000000  22.000000   3900.000000\n",
       "25%     6.250000  27.250000  11666.000000\n",
       "50%    12.500000  31.500000  33739.947368\n",
       "75%    17.750000  34.000000  49633.000000\n",
       "max    23.000000  50.000000  67666.000000"
      ]
     },
     "execution_count": 33,
     "metadata": {},
     "output_type": "execute_result"
    }
   ],
   "source": [
    "emp_df.describe()"
   ]
  },
  {
   "cell_type": "code",
   "execution_count": 34,
   "metadata": {},
   "outputs": [
    {
     "data": {
      "image/png": "[encoded data removed]",
      "text/plain": [
       "<Figure size 432x288 with 2 Axes>"
      ]
     },
     "metadata": {
      "needs_background": "light"
     },
     "output_type": "display_data"
    }
   ],
   "source": [
    "sns.heatmap(emp_df.corr(), annot=True).set_title(\"Corelation of attributes\")\n",
    "plt.show()"
   ]
  },
  {
   "cell_type": "code",
   "execution_count": 44,
   "metadata": {},
   "outputs": [],
   "source": [
    "#seprating into input and output variables\n",
    "df_x=emp_df.drop(columns=['Salary','Name','City','Country'])\n",
    "from sklearn.preprocessing import StandardScaler\n",
    "ss=StandardScaler()\n",
    "df_x=ss.fit_transform(df_x)\n",
    "y=emp_df.iloc[:,-1]"
   ]
  },
  {
   "cell_type": "code",
   "execution_count": 45,
   "metadata": {},
   "outputs": [],
   "source": [
    "from sklearn.model_selection import train_test_split\n",
    "from sklearn.metrics import mean_absolute_error\n",
    "from sklearn.metrics import mean_squared_error\n",
    "from sklearn.metrics import r2_score\n",
    "def maxr2_score(regr,df_x,y):\n",
    "    max_r_score=0\n",
    "    for r_state in range(42,101):\n",
    "        x_train,x_test,y_train,y_test=train_test_split(df_x,y,random_state=r_state,test_size=0.20)\n",
    "        regr.fit(x_train,y_train)\n",
    "        y_pred=regr.predict(x_test)\n",
    "        r2_scr=r2_score(y_test,y_pred)\n",
    "        print('r2_score corresponding to random state: ',r_state,\"is:\",r2_scr)\n",
    "        if r2_scr>max_r_score:\n",
    "            max_r_score=r2_scr\n",
    "            final_r_state=r_state\n",
    "    print('\\n\\nmax r2 score corresponding to random state:',final_r_state,\"is\",max_r_score)\n",
    "    return final_r_state"
   ]
  },
  {
   "cell_type": "code",
   "execution_count": 46,
   "metadata": {},
   "outputs": [
    {
     "name": "stdout",
     "output_type": "stream",
     "text": [
      "r2_score corresponding to random state:  42 is: -0.2773256982933925\n",
      "r2_score corresponding to random state:  43 is: -0.6259884188331819\n",
      "r2_score corresponding to random state:  44 is: -0.44480889486477637\n",
      "r2_score corresponding to random state:  45 is: -2.883111822699885\n",
      "r2_score corresponding to random state:  46 is: -0.6939279831808713\n",
      "r2_score corresponding to random state:  47 is: -0.7194598162458332\n",
      "r2_score corresponding to random state:  48 is: -0.7179240610104549\n",
      "r2_score corresponding to random state:  49 is: -0.12143778819486539\n",
      "r2_score corresponding to random state:  50 is: -0.12279637334814031\n",
      "r2_score corresponding to random state:  51 is: -0.22460806622969565\n",
      "r2_score corresponding to random state:  52 is: -0.7105500742961706\n",
      "r2_score corresponding to random state:  53 is: -0.07896729841638228\n",
      "r2_score corresponding to random state:  54 is: -1.1815487110927392\n",
      "r2_score corresponding to random state:  55 is: -0.03165658765204182\n",
      "r2_score corresponding to random state:  56 is: -1.5043870748298849\n",
      "r2_score corresponding to random state:  57 is: -0.676030139552678\n",
      "r2_score corresponding to random state:  58 is: -0.48809878670128604\n",
      "r2_score corresponding to random state:  59 is: -0.25829758424134264\n",
      "r2_score corresponding to random state:  60 is: -0.2577937218554893\n",
      "r2_score corresponding to random state:  61 is: -0.17178065945125232\n",
      "r2_score corresponding to random state:  62 is: -0.139186848585654\n",
      "r2_score corresponding to random state:  63 is: -0.3132753964210937\n",
      "r2_score corresponding to random state:  64 is: -3.158926518978207\n",
      "r2_score corresponding to random state:  65 is: -2.2116720954848974\n",
      "r2_score corresponding to random state:  66 is: -0.19938455702809588\n",
      "r2_score corresponding to random state:  67 is: -1.4116088139489142\n",
      "r2_score corresponding to random state:  68 is: -0.8228224746175459\n",
      "r2_score corresponding to random state:  69 is: -0.7711544537741055\n",
      "r2_score corresponding to random state:  70 is: -0.8784185652618757\n",
      "r2_score corresponding to random state:  71 is: 0.04501184748071019\n",
      "r2_score corresponding to random state:  72 is: -0.6450774759143565\n",
      "r2_score corresponding to random state:  73 is: -2.1121336026951285\n",
      "r2_score corresponding to random state:  74 is: -0.5995180339667727\n",
      "r2_score corresponding to random state:  75 is: -0.39493085558045316\n",
      "r2_score corresponding to random state:  76 is: -1.4275701306789368\n",
      "r2_score corresponding to random state:  77 is: -0.5728904826713503\n",
      "r2_score corresponding to random state:  78 is: -0.31471664409372924\n",
      "r2_score corresponding to random state:  79 is: -0.05502183407771066\n",
      "r2_score corresponding to random state:  80 is: -0.738856019379849\n",
      "r2_score corresponding to random state:  81 is: -1.06150510478211\n",
      "r2_score corresponding to random state:  82 is: -0.17196403688067674\n",
      "r2_score corresponding to random state:  83 is: -0.10566373557362585\n",
      "r2_score corresponding to random state:  84 is: -0.40318488790229434\n",
      "r2_score corresponding to random state:  85 is: -0.26729129012219466\n",
      "r2_score corresponding to random state:  86 is: -1.961086067322642\n",
      "r2_score corresponding to random state:  87 is: -0.29332069494534707\n",
      "r2_score corresponding to random state:  88 is: -0.8868719407446735\n",
      "r2_score corresponding to random state:  89 is: -0.4073533417269448\n",
      "r2_score corresponding to random state:  90 is: -4.1134044269257295\n",
      "r2_score corresponding to random state:  91 is: -0.49474504103542527\n",
      "r2_score corresponding to random state:  92 is: -0.8085542142069884\n",
      "r2_score corresponding to random state:  93 is: -0.3844940989255483\n",
      "r2_score corresponding to random state:  94 is: -0.8018119493322764\n",
      "r2_score corresponding to random state:  95 is: -1.0082734241843103\n",
      "r2_score corresponding to random state:  96 is: -2.4476361147444683\n",
      "r2_score corresponding to random state:  97 is: -0.35892898324136135\n",
      "r2_score corresponding to random state:  98 is: -3.3055798745993243\n",
      "r2_score corresponding to random state:  99 is: -0.2138394899998124\n",
      "r2_score corresponding to random state:  100 is: -1.6190118473349555\n",
      "\n",
      "\n",
      "max r2 score corresponding to random state: 71 is 0.04501184748071019\n"
     ]
    }
   ],
   "source": [
    "#lets use linear regression and check max  r2 score corresponding to different random states\n",
    "from sklearn.linear_model import LinearRegression\n",
    "lreg=LinearRegression()\n",
    "r_state=maxr2_score(lreg,df_x,y)\n"
   ]
  },
  {
   "cell_type": "code",
   "execution_count": 47,
   "metadata": {},
   "outputs": [],
   "source": [
    "x_train,x_test,y_train,y_test=train_test_split(df_x,y,random_state=71,test_size=0.20)\n",
    "lreg=LinearRegression()        \n",
    "lreg.fit(x_train,y_train)\n",
    "y_pred=lreg.predict(x_test)"
   ]
  },
  {
   "cell_type": "code",
   "execution_count": 48,
   "metadata": {},
   "outputs": [
    {
     "name": "stdout",
     "output_type": "stream",
     "text": [
      "RMSE is :  14487.1495454212\n",
      "r2_score is :  0.04501184748071019\n"
     ]
    }
   ],
   "source": [
    "import numpy as np\n",
    "from sklearn.metrics import r2_score\n",
    "from sklearn.metrics import mean_squared_error\n",
    "print(\"RMSE is : \",np.sqrt(mean_squared_error(y_test,y_pred)))\n",
    "print('r2_score is : ',r2_score(y_test,y_pred))\n"
   ]
  },
  {
   "cell_type": "code",
   "execution_count": 49,
   "metadata": {},
   "outputs": [
    {
     "data": {
      "text/plain": [
       "['empl_salary_model.csv']"
      ]
     },
     "execution_count": 49,
     "metadata": {},
     "output_type": "execute_result"
    }
   ],
   "source": [
    "from sklearn.externals import joblib\n",
    "joblib.dump(lreg,'empl_salary_model.csv')"
   ]
  },
  {
   "cell_type": "code",
   "execution_count": 50,
   "metadata": {},
   "outputs": [],
   "source": [
    "model=joblib.load('empl_salary_model.csv')"
   ]
  },
  {
   "cell_type": "code",
   "execution_count": 43,
   "metadata": {},
   "outputs": [
    {
     "data": {
      "text/plain": [
       "array([30501.48862712, 31292.88698784, 34834.6020187 , 32452.57589958,\n",
       "       37961.04027682])"
      ]
     },
     "execution_count": 43,
     "metadata": {},
     "output_type": "execute_result"
    }
   ],
   "source": [
    "model.predict(x_test)"
   ]
  },
  {
   "cell_type": "code",
   "execution_count": null,
   "metadata": {},
   "outputs": [],
   "source": []
  }
 ],
 "metadata": {
  "kernelspec": {
   "display_name": "Python 3",
   "language": "python",
   "name": "python3"
  },
  "language_info": {
   "codemirror_mode": {
    "name": "ipython",
    "version": 3
   },
   "file_extension": ".py",
   "mimetype": "text/x-python",
   "name": "python",
   "nbconvert_exporter": "python",
   "pygments_lexer": "ipython3",
   "version": "3.7.6"
  }
 },
 "nbformat": 4,
 "nbformat_minor": 4
}
